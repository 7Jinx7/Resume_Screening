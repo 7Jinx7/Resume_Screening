{
 "cells": [
  {
   "cell_type": "code",
   "execution_count": null,
   "id": "83d6a385-4bd8-4932-9150-2e0166fa0d04",
   "metadata": {},
   "outputs": [],
   "source": [
    "#Install libs\n",
    "\n",
    "!pip install pandas scikit-learn nltk\n",
    "#!pip install --upgrade pip"
   ]
  },
  {
   "cell_type": "code",
   "execution_count": null,
   "id": "19c47969",
   "metadata": {},
   "outputs": [],
   "source": [
    "\n",
    "# RB method\n",
    "\n",
    "#Import libs\n",
    "import pandas as pd\n",
    "import numpy as np\n",
    "import re\n",
    "import nltk\n",
    "import matplotlib.pyplot as plt\n",
    "from sklearn.model_selection import train_test_split\n",
    "from sklearn.feature_extraction.text import CountVectorizer\n",
    "from sklearn.linear_model import LogisticRegression\n",
    "from sklearn.metrics import classification_report\n",
    "\n",
    "nltk.download('stopwords')\n",
    "from nltk.corpus import stopwords\n",
    "\n",
    "#Load dataset\n",
    "df = pd.read_csv(\"cleaned_dataset.csv\")\n",
    "df = df[['Category', 'Resume']]\n",
    "\n",
    "#Clean text func\n",
    "def clean_text(text):\n",
    "    text = re.sub(r'<[^>]+>', '', text)\n",
    "    text = re.sub(r'[^a-zA-Z]', ' ', text)\n",
    "    text = text.lower()\n",
    "    words = text.split()\n",
    "    stop_words = set(stopwords.words('english'))\n",
    "    words = [w for w in words if w not in stop_words]\n",
    "    return ' '.join(words)\n",
    "\n",
    "df['Cleaned_Resume'] = df['Resume'].apply(clean_text)\n",
    "\n",
    "#Keyword list\n",
    "keywords = pd.read_csv(\"keywords.csv\")['Skill'].tolist()\n",
    "\n",
    "def keyword_score(text):\n",
    "    return sum([1 for kw in keywords if kw in text])\n",
    "\n",
    "df['KeywordScore'] = df['Cleaned_Resume'].apply(keyword_score)\n",
    "\n",
    "# Rule Based Threshold Labeling\n",
    "df['Label'] = df['KeywordScore'].apply(lambda x: 1 if x >= 3 else 0)\n",
    "\n",
    "#Model training\n",
    "X = df['Cleaned_Resume']\n",
    "y = df['Label']\n",
    "\n",
    "vectorizer = CountVectorizer(max_features=1000)\n",
    "X_vec = vectorizer.fit_transform(X)\n",
    "\n",
    "X_train, X_test, y_train, y_test = train_test_split(X_vec, y, test_size=0.2, random_state=42)\n",
    "\n",
    "model = LogisticRegression()\n",
    "model.fit(X_train, y_train)\n",
    "y_pred = model.predict(X_test)\n",
    "\n",
    "print(classification_report(y_test, y_pred, target_names=['Not a good fit', 'Fit']))\n",
    "\n",
    "\n",
    "df['Prediction'] = model.predict(vectorizer.transform(df['Cleaned_Resume']))\n",
    "df['Decision'] = df['Prediction'].apply(lambda x: \"Fit – Move forward with interview\" if x == 1 else \"Not a good fit\")\n",
    "\n",
    "# Show Resume Decisions\n",
    "#for i, row in df.iterrows():\n",
    "  #  print(f\"Resume #{i+1}: {row['Decision']} (KeywordScore: {row['KeywordScore']})\")\n"
   ]
  },
  {
   "cell_type": "code",
   "execution_count": null,
   "id": "5297c47c-c983-49e7-8415-5d7220f6f858",
   "metadata": {},
   "outputs": [],
   "source": [
    "#Export results to CSV\n",
    "df[['Resume', 'Decision']].to_csv(\"results_rb.csv\", index=False)"
   ]
  },
  {
   "cell_type": "code",
   "execution_count": null,
   "id": "2a597930-09e7-43be-8ffa-551c1ec3e337",
   "metadata": {},
   "outputs": [],
   "source": []
  }
 ],
 "metadata": {
  "kernelspec": {
   "display_name": "Python 3 (ipykernel)",
   "language": "python",
   "name": "python3"
  },
  "language_info": {
   "codemirror_mode": {
    "name": "ipython",
    "version": 3
   },
   "file_extension": ".py",
   "mimetype": "text/x-python",
   "name": "python",
   "nbconvert_exporter": "python",
   "pygments_lexer": "ipython3",
   "version": "3.12.7"
  }
 },
 "nbformat": 4,
 "nbformat_minor": 5
}
