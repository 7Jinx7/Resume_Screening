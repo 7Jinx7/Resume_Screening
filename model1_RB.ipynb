{
 "cells": [
  {
   "cell_type": "code",
   "execution_count": 1,
   "id": "83d6a385-4bd8-4932-9150-2e0166fa0d04",
   "metadata": {},
   "outputs": [
    {
     "name": "stdout",
     "output_type": "stream",
     "text": [
      "Defaulting to user installation because normal site-packages is not writeable\n",
      "Requirement already satisfied: pandas in /usr/local/venv/lib/python3.12/site-packages (2.2.3)\n",
      "Requirement already satisfied: scikit-learn in /usr/local/venv/lib/python3.12/site-packages (1.5.2)\n",
      "Requirement already satisfied: nltk in /usr/local/venv/lib/python3.12/site-packages (3.9.1)\n",
      "Requirement already satisfied: numpy>=1.26.0 in /usr/local/venv/lib/python3.12/site-packages (from pandas) (1.26.4)\n",
      "Requirement already satisfied: python-dateutil>=2.8.2 in /usr/local/venv/lib/python3.12/site-packages (from pandas) (2.9.0.post0)\n",
      "Requirement already satisfied: pytz>=2020.1 in /usr/local/venv/lib/python3.12/site-packages (from pandas) (2024.2)\n",
      "Requirement already satisfied: tzdata>=2022.7 in /usr/local/venv/lib/python3.12/site-packages (from pandas) (2024.2)\n",
      "Requirement already satisfied: scipy>=1.6.0 in /usr/local/venv/lib/python3.12/site-packages (from scikit-learn) (1.13.1)\n",
      "Requirement already satisfied: joblib>=1.2.0 in /usr/local/venv/lib/python3.12/site-packages (from scikit-learn) (1.4.2)\n",
      "Requirement already satisfied: threadpoolctl>=3.1.0 in /usr/local/venv/lib/python3.12/site-packages (from scikit-learn) (3.5.0)\n",
      "Requirement already satisfied: click in /usr/local/venv/lib/python3.12/site-packages (from nltk) (8.1.7)\n",
      "Requirement already satisfied: regex>=2021.8.3 in /usr/local/venv/lib/python3.12/site-packages (from nltk) (2024.11.6)\n",
      "Requirement already satisfied: tqdm in /usr/local/venv/lib/python3.12/site-packages (from nltk) (4.67.0)\n",
      "Requirement already satisfied: six>=1.5 in /usr/local/venv/lib/python3.12/site-packages (from python-dateutil>=2.8.2->pandas) (1.16.0)\n",
      "\n",
      "\u001b[1m[\u001b[0m\u001b[34;49mnotice\u001b[0m\u001b[1;39;49m]\u001b[0m\u001b[39;49m A new release of pip is available: \u001b[0m\u001b[31;49m24.2\u001b[0m\u001b[39;49m -> \u001b[0m\u001b[32;49m25.1.1\u001b[0m\n",
      "\u001b[1m[\u001b[0m\u001b[34;49mnotice\u001b[0m\u001b[1;39;49m]\u001b[0m\u001b[39;49m To update, run: \u001b[0m\u001b[32;49mpip install --upgrade pip\u001b[0m\n",
      "Defaulting to user installation because normal site-packages is not writeable\n",
      "Requirement already satisfied: pip in /usr/local/venv/lib/python3.12/site-packages (24.2)\n",
      "Collecting pip\n",
      "  Using cached pip-25.1.1-py3-none-any.whl.metadata (3.6 kB)\n",
      "\n",
      "\u001b[1m[\u001b[0m\u001b[34;49mnotice\u001b[0m\u001b[1;39;49m]\u001b[0m\u001b[39;49m A new release of pip is available: \u001b[0m\u001b[31;49m24.2\u001b[0m\u001b[39;49m -> \u001b[0m\u001b[32;49m25.1.1\u001b[0m\n",
      "\u001b[1m[\u001b[0m\u001b[34;49mnotice\u001b[0m\u001b[1;39;49m]\u001b[0m\u001b[39;49m To update, run: \u001b[0m\u001b[32;49mpip install --upgrade pip\u001b[0m\n",
      "\u001b[31mERROR: Will not install to the user site because it will lack sys.path precedence to pip in /usr/local/venv/lib/python3.12/site-packages\u001b[0m\u001b[31m\n",
      "\u001b[0m"
     ]
    }
   ],
   "source": [
    "#install libs\n",
    "\n",
    "!pip install pandas scikit-learn nltk\n",
    "!pip install --upgrade pip"
   ]
  },
  {
   "cell_type": "code",
   "execution_count": 3,
   "id": "19c47969",
   "metadata": {},
   "outputs": [
    {
     "name": "stderr",
     "output_type": "stream",
     "text": [
      "[nltk_data] Downloading package stopwords to /home/np819/nltk_data...\n",
      "[nltk_data]   Package stopwords is already up-to-date!\n"
     ]
    },
    {
     "name": "stdout",
     "output_type": "stream",
     "text": [
      "                precision    recall  f1-score   support\n",
      "\n",
      "Not a good fit       1.00      1.00      1.00        73\n",
      "           Fit       1.00      1.00      1.00       120\n",
      "\n",
      "      accuracy                           1.00       193\n",
      "     macro avg       1.00      1.00      1.00       193\n",
      "  weighted avg       1.00      1.00      1.00       193\n",
      "\n"
     ]
    }
   ],
   "source": [
    "\n",
    "# Rule-Based Keyword Threshold Method\n",
    "\n",
    "# import Libraries\n",
    "import pandas as pd\n",
    "import numpy as np\n",
    "import re\n",
    "import nltk\n",
    "import matplotlib.pyplot as plt\n",
    "from sklearn.model_selection import train_test_split\n",
    "from sklearn.feature_extraction.text import CountVectorizer\n",
    "from sklearn.linear_model import LogisticRegression\n",
    "from sklearn.metrics import classification_report\n",
    "\n",
    "nltk.download('stopwords')\n",
    "from nltk.corpus import stopwords\n",
    "\n",
    "# Load Dataset\n",
    "df = pd.read_csv(\"cleaned_dataset.csv\")\n",
    "df = df[['Category', 'Resume']]\n",
    "\n",
    "# Clean Text Function\n",
    "def clean_text(text):\n",
    "    text = re.sub(r'<[^>]+>', '', text)\n",
    "    text = re.sub(r'[^a-zA-Z]', ' ', text)\n",
    "    text = text.lower()\n",
    "    words = text.split()\n",
    "    stop_words = set(stopwords.words('english'))\n",
    "    words = [w for w in words if w not in stop_words]\n",
    "    return ' '.join(words)\n",
    "\n",
    "df['Cleaned_Resume'] = df['Resume'].apply(clean_text)\n",
    "\n",
    "# Keyword List\n",
    "keywords = pd.read_csv(\"keywords.csv\")['Skill'].tolist()\n",
    "\n",
    "def keyword_score(text):\n",
    "    return sum([1 for kw in keywords if kw in text])\n",
    "\n",
    "df['KeywordScore'] = df['Cleaned_Resume'].apply(keyword_score)\n",
    "\n",
    "# Rule Based Threshold Labeling\n",
    "df['Label'] = df['KeywordScore'].apply(lambda x: 1 if x >= 3 else 0)\n",
    "\n",
    "# Model Training\n",
    "X = df['Cleaned_Resume']\n",
    "y = df['Label']\n",
    "\n",
    "vectorizer = CountVectorizer(max_features=1000)\n",
    "X_vec = vectorizer.fit_transform(X)\n",
    "\n",
    "X_train, X_test, y_train, y_test = train_test_split(X_vec, y, test_size=0.2, random_state=42)\n",
    "\n",
    "model = LogisticRegression()\n",
    "model.fit(X_train, y_train)\n",
    "y_pred = model.predict(X_test)\n",
    "\n",
    "print(classification_report(y_test, y_pred, target_names=['Not a good fit', 'Fit']))\n",
    "\n",
    "\n",
    "df['Prediction'] = model.predict(vectorizer.transform(df['Cleaned_Resume']))\n",
    "df['Decision'] = df['Prediction'].apply(lambda x: \"Fit – Move forward with interview\" if x == 1 else \"Not a good fit\")\n",
    "\n",
    "# Show Resume Decisions\n",
    "#for i, row in df.iterrows():\n",
    "  #  print(f\"Resume #{i+1}: {row['Decision']} (KeywordScore: {row['KeywordScore']})\")\n"
   ]
  },
  {
   "cell_type": "code",
   "execution_count": 4,
   "id": "5297c47c-c983-49e7-8415-5d7220f6f858",
   "metadata": {},
   "outputs": [],
   "source": [
    "# Export results to CSV\n",
    "df[['Resume', 'Decision']].to_csv(\"results_rb.csv\", index=False)"
   ]
  },
  {
   "cell_type": "code",
   "execution_count": null,
   "id": "2a597930-09e7-43be-8ffa-551c1ec3e337",
   "metadata": {},
   "outputs": [],
   "source": []
  }
 ],
 "metadata": {
  "kernelspec": {
   "display_name": "Python 3 (ipykernel)",
   "language": "python",
   "name": "python3"
  },
  "language_info": {
   "codemirror_mode": {
    "name": "ipython",
    "version": 3
   },
   "file_extension": ".py",
   "mimetype": "text/x-python",
   "name": "python",
   "nbconvert_exporter": "python",
   "pygments_lexer": "ipython3",
   "version": "3.12.7"
  }
 },
 "nbformat": 4,
 "nbformat_minor": 5
}
